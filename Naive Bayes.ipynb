{
  "nbformat": 4,
  "nbformat_minor": 0,
  "metadata": {
    "colab": {
      "provenance": []
    },
    "kernelspec": {
      "name": "python3",
      "display_name": "Python 3"
    },
    "language_info": {
      "name": "python"
    }
  },
  "cells": [
    {
      "cell_type": "markdown",
      "source": [
        "# **Naïve Bayes Classifier**"
      ],
      "metadata": {
        "id": "7wI5A7OkFbzn"
      }
    },
    {
      "cell_type": "markdown",
      "source": [
        "## **Attribute Information**"
      ],
      "metadata": {
        "id": "M9JGIAsHGFoE"
      }
    },
    {
      "cell_type": "code",
      "execution_count": null,
      "metadata": {
        "id": "wnzGV76PFWw-"
      },
      "outputs": [],
      "source": [
        "# Listing of attributes:\n",
        "\n",
        "# >50K, <=50K.\n",
        "\n",
        "# age: continuous.\n",
        "\n",
        "# workclass: Private, Self-emp-not-inc, Self-emp-inc, Federal-gov, Local-gov, \n",
        "# State-gov, Without-pay, Never-worked.\n",
        "\n",
        "# fnlwgt: continuous.\n",
        "\n",
        "# education: Bachelors, Some-college, 11th, HS-grad, Prof-school, Assoc-acdm, \n",
        "# Assoc-voc, 9th, 7th-8th, 12th, Masters, 1st-4th, 10th, Doctorate, 5th-6th, Preschool.\n",
        "\n",
        "# education-num: continuous.\n",
        "\n",
        "# marital-status: Married-civ-spouse, Divorced, Never-married, Separated, Widowed, \n",
        "# Married-spouse-absent, Married-AF-spouse.\n",
        "\n",
        "# occupation: Tech-support, Craft-repair, Other-service, Sales, Exec-managerial, \n",
        "# Prof-specialty, Handlers-cleaners, Machine-op-inspct, Adm-clerical, Farming-fishing, \n",
        "# Transport-moving, Priv-house-serv, Protective-serv, Armed-Forces.\n",
        "\n",
        "# relationship: Wife, Own-child, Husband, Not-in-family, Other-relative, Unmarried.\n",
        "\n",
        "# race: White, Asian-Pac-Islander, Amer-Indian-Eskimo, Other, Black.\n",
        "\n",
        "# sex: Female, Male.\n",
        "\n",
        "# capital-gain: continuous.\n",
        "\n",
        "# capital-loss: continuous.\n",
        "\n",
        "# hours-per-week: continuous.\n",
        "\n",
        "# native-country: United-States, Cambodia, England, Puerto-Rico, Canada, Germany,\n",
        "#  Outlying-US(Guam-USVI-etc), India, Japan, Greece, South, China, Cuba, Iran, \n",
        "#  Honduras, Philippines, Italy, Poland, Jamaica, Vietnam, Mexico, Portugal, \n",
        "#  Ireland, France, Dominican-Republic, Laos, Ecuador, Taiwan, Haiti, Columbia, \n",
        "#  Hungary, Guatemala, Nicaragua, Scotland, Thailand, Yugoslavia, El-Salvador, \n",
        "#  Trinadad&Tobago, Peru, Hong, Holand-Netherlands."
      ]
    },
    {
      "cell_type": "markdown",
      "source": [
        "## **Data Preprocessing**"
      ],
      "metadata": {
        "id": "fgYTNAQsaVNr"
      }
    },
    {
      "cell_type": "code",
      "source": [
        "import pandas as pd\n",
        "import numpy as np\n",
        "\n",
        "# Read CSV file from Drive into Pandas DataFrame\n",
        "file_path = 'adult.data'\n",
        "df = pd.read_csv(file_path)\n",
        "df.columns = ['age', 'workclass', 'fnlwgt','education','education-num','marital-status','occupation','relationship','race','sex','capital-gain','capital-loss','hours-per-week','native-country','income_status']"
      ],
      "metadata": {
        "id": "X0Zc60nvHXdm",
        "colab": {
          "base_uri": "https://localhost:8080/"
        },
        "outputId": "4365d668-f862-4ac3-f88e-f230cf3d4a5a"
      },
      "execution_count": null,
      "outputs": [
        {
          "output_type": "stream",
          "name": "stdout",
          "text": [
            "Mounted at /content/drive\n"
          ]
        }
      ]
    },
    {
      "cell_type": "code",
      "source": [
        "df"
      ],
      "metadata": {
        "colab": {
          "base_uri": "https://localhost:8080/",
          "height": 817
        },
        "id": "fxIgiazSNlaz",
        "outputId": "a888eec9-a5c5-4171-abb0-11a12226de11"
      },
      "execution_count": null,
      "outputs": [
        {
          "output_type": "execute_result",
          "data": {
            "text/plain": [
              "       age          workclass  fnlwgt    education  education-num  \\\n",
              "0       50   Self-emp-not-inc   83311    Bachelors             13   \n",
              "1       38            Private  215646      HS-grad              9   \n",
              "2       53            Private  234721         11th              7   \n",
              "3       28            Private  338409    Bachelors             13   \n",
              "4       37            Private  284582      Masters             14   \n",
              "...    ...                ...     ...          ...            ...   \n",
              "32555   27            Private  257302   Assoc-acdm             12   \n",
              "32556   40            Private  154374      HS-grad              9   \n",
              "32557   58            Private  151910      HS-grad              9   \n",
              "32558   22            Private  201490      HS-grad              9   \n",
              "32559   52       Self-emp-inc  287927      HS-grad              9   \n",
              "\n",
              "            marital-status          occupation    relationship    race  \\\n",
              "0       Married-civ-spouse     Exec-managerial         Husband   White   \n",
              "1                 Divorced   Handlers-cleaners   Not-in-family   White   \n",
              "2       Married-civ-spouse   Handlers-cleaners         Husband   Black   \n",
              "3       Married-civ-spouse      Prof-specialty            Wife   Black   \n",
              "4       Married-civ-spouse     Exec-managerial            Wife   White   \n",
              "...                    ...                 ...             ...     ...   \n",
              "32555   Married-civ-spouse        Tech-support            Wife   White   \n",
              "32556   Married-civ-spouse   Machine-op-inspct         Husband   White   \n",
              "32557              Widowed        Adm-clerical       Unmarried   White   \n",
              "32558        Never-married        Adm-clerical       Own-child   White   \n",
              "32559   Married-civ-spouse     Exec-managerial            Wife   White   \n",
              "\n",
              "           sex  capital-gain  capital-loss  hours-per-week  native-country  \\\n",
              "0         Male             0             0              13   United-States   \n",
              "1         Male             0             0              40   United-States   \n",
              "2         Male             0             0              40   United-States   \n",
              "3       Female             0             0              40            Cuba   \n",
              "4       Female             0             0              40   United-States   \n",
              "...        ...           ...           ...             ...             ...   \n",
              "32555   Female             0             0              38   United-States   \n",
              "32556     Male             0             0              40   United-States   \n",
              "32557   Female             0             0              40   United-States   \n",
              "32558     Male             0             0              20   United-States   \n",
              "32559   Female         15024             0              40   United-States   \n",
              "\n",
              "      income_status  \n",
              "0             <=50K  \n",
              "1             <=50K  \n",
              "2             <=50K  \n",
              "3             <=50K  \n",
              "4             <=50K  \n",
              "...             ...  \n",
              "32555         <=50K  \n",
              "32556          >50K  \n",
              "32557         <=50K  \n",
              "32558         <=50K  \n",
              "32559          >50K  \n",
              "\n",
              "[32560 rows x 15 columns]"
            ],
            "text/html": [
              "\n",
              "  <div id=\"df-597c0da8-c32a-49cf-bc38-5fadabf403e3\">\n",
              "    <div class=\"colab-df-container\">\n",
              "      <div>\n",
              "<style scoped>\n",
              "    .dataframe tbody tr th:only-of-type {\n",
              "        vertical-align: middle;\n",
              "    }\n",
              "\n",
              "    .dataframe tbody tr th {\n",
              "        vertical-align: top;\n",
              "    }\n",
              "\n",
              "    .dataframe thead th {\n",
              "        text-align: right;\n",
              "    }\n",
              "</style>\n",
              "<table border=\"1\" class=\"dataframe\">\n",
              "  <thead>\n",
              "    <tr style=\"text-align: right;\">\n",
              "      <th></th>\n",
              "      <th>age</th>\n",
              "      <th>workclass</th>\n",
              "      <th>fnlwgt</th>\n",
              "      <th>education</th>\n",
              "      <th>education-num</th>\n",
              "      <th>marital-status</th>\n",
              "      <th>occupation</th>\n",
              "      <th>relationship</th>\n",
              "      <th>race</th>\n",
              "      <th>sex</th>\n",
              "      <th>capital-gain</th>\n",
              "      <th>capital-loss</th>\n",
              "      <th>hours-per-week</th>\n",
              "      <th>native-country</th>\n",
              "      <th>income_status</th>\n",
              "    </tr>\n",
              "  </thead>\n",
              "  <tbody>\n",
              "    <tr>\n",
              "      <th>0</th>\n",
              "      <td>50</td>\n",
              "      <td>Self-emp-not-inc</td>\n",
              "      <td>83311</td>\n",
              "      <td>Bachelors</td>\n",
              "      <td>13</td>\n",
              "      <td>Married-civ-spouse</td>\n",
              "      <td>Exec-managerial</td>\n",
              "      <td>Husband</td>\n",
              "      <td>White</td>\n",
              "      <td>Male</td>\n",
              "      <td>0</td>\n",
              "      <td>0</td>\n",
              "      <td>13</td>\n",
              "      <td>United-States</td>\n",
              "      <td>&lt;=50K</td>\n",
              "    </tr>\n",
              "    <tr>\n",
              "      <th>1</th>\n",
              "      <td>38</td>\n",
              "      <td>Private</td>\n",
              "      <td>215646</td>\n",
              "      <td>HS-grad</td>\n",
              "      <td>9</td>\n",
              "      <td>Divorced</td>\n",
              "      <td>Handlers-cleaners</td>\n",
              "      <td>Not-in-family</td>\n",
              "      <td>White</td>\n",
              "      <td>Male</td>\n",
              "      <td>0</td>\n",
              "      <td>0</td>\n",
              "      <td>40</td>\n",
              "      <td>United-States</td>\n",
              "      <td>&lt;=50K</td>\n",
              "    </tr>\n",
              "    <tr>\n",
              "      <th>2</th>\n",
              "      <td>53</td>\n",
              "      <td>Private</td>\n",
              "      <td>234721</td>\n",
              "      <td>11th</td>\n",
              "      <td>7</td>\n",
              "      <td>Married-civ-spouse</td>\n",
              "      <td>Handlers-cleaners</td>\n",
              "      <td>Husband</td>\n",
              "      <td>Black</td>\n",
              "      <td>Male</td>\n",
              "      <td>0</td>\n",
              "      <td>0</td>\n",
              "      <td>40</td>\n",
              "      <td>United-States</td>\n",
              "      <td>&lt;=50K</td>\n",
              "    </tr>\n",
              "    <tr>\n",
              "      <th>3</th>\n",
              "      <td>28</td>\n",
              "      <td>Private</td>\n",
              "      <td>338409</td>\n",
              "      <td>Bachelors</td>\n",
              "      <td>13</td>\n",
              "      <td>Married-civ-spouse</td>\n",
              "      <td>Prof-specialty</td>\n",
              "      <td>Wife</td>\n",
              "      <td>Black</td>\n",
              "      <td>Female</td>\n",
              "      <td>0</td>\n",
              "      <td>0</td>\n",
              "      <td>40</td>\n",
              "      <td>Cuba</td>\n",
              "      <td>&lt;=50K</td>\n",
              "    </tr>\n",
              "    <tr>\n",
              "      <th>4</th>\n",
              "      <td>37</td>\n",
              "      <td>Private</td>\n",
              "      <td>284582</td>\n",
              "      <td>Masters</td>\n",
              "      <td>14</td>\n",
              "      <td>Married-civ-spouse</td>\n",
              "      <td>Exec-managerial</td>\n",
              "      <td>Wife</td>\n",
              "      <td>White</td>\n",
              "      <td>Female</td>\n",
              "      <td>0</td>\n",
              "      <td>0</td>\n",
              "      <td>40</td>\n",
              "      <td>United-States</td>\n",
              "      <td>&lt;=50K</td>\n",
              "    </tr>\n",
              "    <tr>\n",
              "      <th>...</th>\n",
              "      <td>...</td>\n",
              "      <td>...</td>\n",
              "      <td>...</td>\n",
              "      <td>...</td>\n",
              "      <td>...</td>\n",
              "      <td>...</td>\n",
              "      <td>...</td>\n",
              "      <td>...</td>\n",
              "      <td>...</td>\n",
              "      <td>...</td>\n",
              "      <td>...</td>\n",
              "      <td>...</td>\n",
              "      <td>...</td>\n",
              "      <td>...</td>\n",
              "      <td>...</td>\n",
              "    </tr>\n",
              "    <tr>\n",
              "      <th>32555</th>\n",
              "      <td>27</td>\n",
              "      <td>Private</td>\n",
              "      <td>257302</td>\n",
              "      <td>Assoc-acdm</td>\n",
              "      <td>12</td>\n",
              "      <td>Married-civ-spouse</td>\n",
              "      <td>Tech-support</td>\n",
              "      <td>Wife</td>\n",
              "      <td>White</td>\n",
              "      <td>Female</td>\n",
              "      <td>0</td>\n",
              "      <td>0</td>\n",
              "      <td>38</td>\n",
              "      <td>United-States</td>\n",
              "      <td>&lt;=50K</td>\n",
              "    </tr>\n",
              "    <tr>\n",
              "      <th>32556</th>\n",
              "      <td>40</td>\n",
              "      <td>Private</td>\n",
              "      <td>154374</td>\n",
              "      <td>HS-grad</td>\n",
              "      <td>9</td>\n",
              "      <td>Married-civ-spouse</td>\n",
              "      <td>Machine-op-inspct</td>\n",
              "      <td>Husband</td>\n",
              "      <td>White</td>\n",
              "      <td>Male</td>\n",
              "      <td>0</td>\n",
              "      <td>0</td>\n",
              "      <td>40</td>\n",
              "      <td>United-States</td>\n",
              "      <td>&gt;50K</td>\n",
              "    </tr>\n",
              "    <tr>\n",
              "      <th>32557</th>\n",
              "      <td>58</td>\n",
              "      <td>Private</td>\n",
              "      <td>151910</td>\n",
              "      <td>HS-grad</td>\n",
              "      <td>9</td>\n",
              "      <td>Widowed</td>\n",
              "      <td>Adm-clerical</td>\n",
              "      <td>Unmarried</td>\n",
              "      <td>White</td>\n",
              "      <td>Female</td>\n",
              "      <td>0</td>\n",
              "      <td>0</td>\n",
              "      <td>40</td>\n",
              "      <td>United-States</td>\n",
              "      <td>&lt;=50K</td>\n",
              "    </tr>\n",
              "    <tr>\n",
              "      <th>32558</th>\n",
              "      <td>22</td>\n",
              "      <td>Private</td>\n",
              "      <td>201490</td>\n",
              "      <td>HS-grad</td>\n",
              "      <td>9</td>\n",
              "      <td>Never-married</td>\n",
              "      <td>Adm-clerical</td>\n",
              "      <td>Own-child</td>\n",
              "      <td>White</td>\n",
              "      <td>Male</td>\n",
              "      <td>0</td>\n",
              "      <td>0</td>\n",
              "      <td>20</td>\n",
              "      <td>United-States</td>\n",
              "      <td>&lt;=50K</td>\n",
              "    </tr>\n",
              "    <tr>\n",
              "      <th>32559</th>\n",
              "      <td>52</td>\n",
              "      <td>Self-emp-inc</td>\n",
              "      <td>287927</td>\n",
              "      <td>HS-grad</td>\n",
              "      <td>9</td>\n",
              "      <td>Married-civ-spouse</td>\n",
              "      <td>Exec-managerial</td>\n",
              "      <td>Wife</td>\n",
              "      <td>White</td>\n",
              "      <td>Female</td>\n",
              "      <td>15024</td>\n",
              "      <td>0</td>\n",
              "      <td>40</td>\n",
              "      <td>United-States</td>\n",
              "      <td>&gt;50K</td>\n",
              "    </tr>\n",
              "  </tbody>\n",
              "</table>\n",
              "<p>32560 rows × 15 columns</p>\n",
              "</div>\n",
              "      <button class=\"colab-df-convert\" onclick=\"convertToInteractive('df-597c0da8-c32a-49cf-bc38-5fadabf403e3')\"\n",
              "              title=\"Convert this dataframe to an interactive table.\"\n",
              "              style=\"display:none;\">\n",
              "        \n",
              "  <svg xmlns=\"http://www.w3.org/2000/svg\" height=\"24px\"viewBox=\"0 0 24 24\"\n",
              "       width=\"24px\">\n",
              "    <path d=\"M0 0h24v24H0V0z\" fill=\"none\"/>\n",
              "    <path d=\"M18.56 5.44l.94 2.06.94-2.06 2.06-.94-2.06-.94-.94-2.06-.94 2.06-2.06.94zm-11 1L8.5 8.5l.94-2.06 2.06-.94-2.06-.94L8.5 2.5l-.94 2.06-2.06.94zm10 10l.94 2.06.94-2.06 2.06-.94-2.06-.94-.94-2.06-.94 2.06-2.06.94z\"/><path d=\"M17.41 7.96l-1.37-1.37c-.4-.4-.92-.59-1.43-.59-.52 0-1.04.2-1.43.59L10.3 9.45l-7.72 7.72c-.78.78-.78 2.05 0 2.83L4 21.41c.39.39.9.59 1.41.59.51 0 1.02-.2 1.41-.59l7.78-7.78 2.81-2.81c.8-.78.8-2.07 0-2.86zM5.41 20L4 18.59l7.72-7.72 1.47 1.35L5.41 20z\"/>\n",
              "  </svg>\n",
              "      </button>\n",
              "      \n",
              "  <style>\n",
              "    .colab-df-container {\n",
              "      display:flex;\n",
              "      flex-wrap:wrap;\n",
              "      gap: 12px;\n",
              "    }\n",
              "\n",
              "    .colab-df-convert {\n",
              "      background-color: #E8F0FE;\n",
              "      border: none;\n",
              "      border-radius: 50%;\n",
              "      cursor: pointer;\n",
              "      display: none;\n",
              "      fill: #1967D2;\n",
              "      height: 32px;\n",
              "      padding: 0 0 0 0;\n",
              "      width: 32px;\n",
              "    }\n",
              "\n",
              "    .colab-df-convert:hover {\n",
              "      background-color: #E2EBFA;\n",
              "      box-shadow: 0px 1px 2px rgba(60, 64, 67, 0.3), 0px 1px 3px 1px rgba(60, 64, 67, 0.15);\n",
              "      fill: #174EA6;\n",
              "    }\n",
              "\n",
              "    [theme=dark] .colab-df-convert {\n",
              "      background-color: #3B4455;\n",
              "      fill: #D2E3FC;\n",
              "    }\n",
              "\n",
              "    [theme=dark] .colab-df-convert:hover {\n",
              "      background-color: #434B5C;\n",
              "      box-shadow: 0px 1px 3px 1px rgba(0, 0, 0, 0.15);\n",
              "      filter: drop-shadow(0px 1px 2px rgba(0, 0, 0, 0.3));\n",
              "      fill: #FFFFFF;\n",
              "    }\n",
              "  </style>\n",
              "\n",
              "      <script>\n",
              "        const buttonEl =\n",
              "          document.querySelector('#df-597c0da8-c32a-49cf-bc38-5fadabf403e3 button.colab-df-convert');\n",
              "        buttonEl.style.display =\n",
              "          google.colab.kernel.accessAllowed ? 'block' : 'none';\n",
              "\n",
              "        async function convertToInteractive(key) {\n",
              "          const element = document.querySelector('#df-597c0da8-c32a-49cf-bc38-5fadabf403e3');\n",
              "          const dataTable =\n",
              "            await google.colab.kernel.invokeFunction('convertToInteractive',\n",
              "                                                     [key], {});\n",
              "          if (!dataTable) return;\n",
              "\n",
              "          const docLinkHtml = 'Like what you see? Visit the ' +\n",
              "            '<a target=\"_blank\" href=https://colab.research.google.com/notebooks/data_table.ipynb>data table notebook</a>'\n",
              "            + ' to learn more about interactive tables.';\n",
              "          element.innerHTML = '';\n",
              "          dataTable['output_type'] = 'display_data';\n",
              "          await google.colab.output.renderOutput(dataTable, element);\n",
              "          const docLink = document.createElement('div');\n",
              "          docLink.innerHTML = docLinkHtml;\n",
              "          element.appendChild(docLink);\n",
              "        }\n",
              "      </script>\n",
              "    </div>\n",
              "  </div>\n",
              "  "
            ]
          },
          "metadata": {},
          "execution_count": 3
        }
      ]
    },
    {
      "cell_type": "code",
      "source": [
        "# value = df.iloc[26,1]\n",
        "# result was ' ?'"
      ],
      "metadata": {
        "id": "1UBTkHYYQJ2V"
      },
      "execution_count": null,
      "outputs": []
    },
    {
      "cell_type": "code",
      "source": [
        "empty = (df == ' ?').sum()\n",
        "empty"
      ],
      "metadata": {
        "colab": {
          "base_uri": "https://localhost:8080/"
        },
        "id": "j-qBwJ69OwZE",
        "outputId": "390a1a85-83b8-41e0-ea7d-edf1892e3d9b"
      },
      "execution_count": null,
      "outputs": [
        {
          "output_type": "execute_result",
          "data": {
            "text/plain": [
              "age                  0\n",
              "workclass         1836\n",
              "fnlwgt               0\n",
              "education            0\n",
              "education-num        0\n",
              "marital-status       0\n",
              "occupation        1843\n",
              "relationship         0\n",
              "race                 0\n",
              "sex                  0\n",
              "capital-gain         0\n",
              "capital-loss         0\n",
              "hours-per-week       0\n",
              "native-country     583\n",
              "income_status        0\n",
              "dtype: int64"
            ]
          },
          "metadata": {},
          "execution_count": 5
        }
      ]
    },
    {
      "cell_type": "code",
      "source": [
        "empty.sum()"
      ],
      "metadata": {
        "colab": {
          "base_uri": "https://localhost:8080/"
        },
        "id": "L3DOm_9zOx_i",
        "outputId": "6e809c11-4d5b-4167-8094-0d08be77a3d3"
      },
      "execution_count": null,
      "outputs": [
        {
          "output_type": "execute_result",
          "data": {
            "text/plain": [
              "4262"
            ]
          },
          "metadata": {},
          "execution_count": 6
        }
      ]
    },
    {
      "cell_type": "code",
      "source": [
        "df = df.replace(\" ?\", np.nan)"
      ],
      "metadata": {
        "id": "gtXAiUTXSaeT"
      },
      "execution_count": null,
      "outputs": []
    },
    {
      "cell_type": "code",
      "source": [
        "col_modes = df.mode().iloc[0]"
      ],
      "metadata": {
        "id": "ClcyHTWBSxEb"
      },
      "execution_count": null,
      "outputs": []
    },
    {
      "cell_type": "code",
      "source": [
        "df.isna().sum()"
      ],
      "metadata": {
        "colab": {
          "base_uri": "https://localhost:8080/"
        },
        "id": "o7IiK_SnS-AI",
        "outputId": "60686139-f3cc-4488-aade-89e6c34c3903"
      },
      "execution_count": null,
      "outputs": [
        {
          "output_type": "execute_result",
          "data": {
            "text/plain": [
              "age                  0\n",
              "workclass         1836\n",
              "fnlwgt               0\n",
              "education            0\n",
              "education-num        0\n",
              "marital-status       0\n",
              "occupation        1843\n",
              "relationship         0\n",
              "race                 0\n",
              "sex                  0\n",
              "capital-gain         0\n",
              "capital-loss         0\n",
              "hours-per-week       0\n",
              "native-country     583\n",
              "income_status        0\n",
              "dtype: int64"
            ]
          },
          "metadata": {},
          "execution_count": 9
        }
      ]
    },
    {
      "cell_type": "code",
      "source": [
        "df = df.fillna(col_modes)"
      ],
      "metadata": {
        "id": "oHXuqtDYS80E"
      },
      "execution_count": null,
      "outputs": []
    },
    {
      "cell_type": "code",
      "source": [
        "df.isna().sum()"
      ],
      "metadata": {
        "colab": {
          "base_uri": "https://localhost:8080/"
        },
        "id": "9pipBk7ITG0N",
        "outputId": "8dd1895e-4b21-4969-bddf-8f97842b7d2b"
      },
      "execution_count": null,
      "outputs": [
        {
          "output_type": "execute_result",
          "data": {
            "text/plain": [
              "age               0\n",
              "workclass         0\n",
              "fnlwgt            0\n",
              "education         0\n",
              "education-num     0\n",
              "marital-status    0\n",
              "occupation        0\n",
              "relationship      0\n",
              "race              0\n",
              "sex               0\n",
              "capital-gain      0\n",
              "capital-loss      0\n",
              "hours-per-week    0\n",
              "native-country    0\n",
              "income_status     0\n",
              "dtype: int64"
            ]
          },
          "metadata": {},
          "execution_count": 11
        }
      ]
    },
    {
      "cell_type": "code",
      "source": [
        "target = df['income_status']\n",
        "target.value_counts()"
      ],
      "metadata": {
        "colab": {
          "base_uri": "https://localhost:8080/"
        },
        "id": "FFH3QZxLUHA-",
        "outputId": "6faaf504-d9e4-42f7-be34-4d81587fd209"
      },
      "execution_count": null,
      "outputs": [
        {
          "output_type": "execute_result",
          "data": {
            "text/plain": [
              " <=50K    24719\n",
              " >50K      7841\n",
              "Name: income_status, dtype: int64"
            ]
          },
          "metadata": {},
          "execution_count": 12
        }
      ]
    },
    {
      "cell_type": "markdown",
      "source": [
        "**<=50K --> 0**\n",
        "\n",
        "**>50K --> 1**"
      ],
      "metadata": {
        "id": "TuqQrR55vwdH"
      }
    },
    {
      "cell_type": "code",
      "source": [
        "def income_to_binary(income):\n",
        "    if income.strip() == '>50K':\n",
        "        return 1\n",
        "    else:\n",
        "        return 0\n",
        "\n",
        "# apply the function to the income column using the apply method, and assign the result to a new column\n",
        "df['income_status'] = df['income_status'].apply(income_to_binary)"
      ],
      "metadata": {
        "id": "Q8Ebc1M6ujLE"
      },
      "execution_count": null,
      "outputs": []
    },
    {
      "cell_type": "code",
      "source": [
        "df.iloc[:,14]"
      ],
      "metadata": {
        "colab": {
          "base_uri": "https://localhost:8080/"
        },
        "id": "hKy1FsyFupuB",
        "outputId": "fdb1ae30-5cc8-4fb5-9db1-56f74feede33"
      },
      "execution_count": null,
      "outputs": [
        {
          "output_type": "execute_result",
          "data": {
            "text/plain": [
              "0        0\n",
              "1        0\n",
              "2        0\n",
              "3        0\n",
              "4        0\n",
              "        ..\n",
              "32555    0\n",
              "32556    1\n",
              "32557    0\n",
              "32558    0\n",
              "32559    1\n",
              "Name: income_status, Length: 32560, dtype: int64"
            ]
          },
          "metadata": {},
          "execution_count": 14
        }
      ]
    },
    {
      "cell_type": "code",
      "source": [
        "target = df['income_status']\n",
        "target.value_counts()"
      ],
      "metadata": {
        "colab": {
          "base_uri": "https://localhost:8080/"
        },
        "id": "MLI1ISdruvLB",
        "outputId": "f5b18538-c153-4871-e15b-8963b5e5698a"
      },
      "execution_count": null,
      "outputs": [
        {
          "output_type": "execute_result",
          "data": {
            "text/plain": [
              "0    24719\n",
              "1     7841\n",
              "Name: income_status, dtype: int64"
            ]
          },
          "metadata": {},
          "execution_count": 15
        }
      ]
    },
    {
      "cell_type": "markdown",
      "source": [
        "##Training and Test split"
      ],
      "metadata": {
        "id": "MC6sLFThipEk"
      }
    },
    {
      "cell_type": "code",
      "source": [
        "# 67:33\n",
        "# train_size = int(2/3 * len(df))\n",
        "# 80:20.\n",
        "# train_size = int(4/5 * len(df))\n",
        "# 90:10.\n",
        "# train_size = int(9/10 * len(df))\n",
        "# 60:40.\n",
        "# train_size = int(6/10 * len(df))\n",
        "# 50:50.\n",
        "# train_size = int(5/10 * len(df))\n",
        "# 33:67.\n",
        "# train_size = int(1/3 * len(df))\n",
        "# 95:5.\n",
        "# train_size = int(11/20 * len(df))\n",
        "# 40:60.\n",
        "# train_size = int(4/10 * len(df))\n",
        "# 70:30.\n",
        "# train_size = int(7/10 * len(df))\n",
        "# 33:67.\n",
        "train_size = int(1/3 * len(df))\n",
        "\n",
        "\n",
        "train_data = df[:train_size]\n",
        "test_data = df[train_size:]\n",
        "\n",
        "# Separate features and target variables\n",
        "X_train = train_data.drop(['income_status'], axis=1)\n",
        "y_train = train_data['income_status']\n",
        "X_test = test_data.drop(['income_status'], axis=1)\n",
        "y_test = test_data['income_status']"
      ],
      "metadata": {
        "id": "HZctzO1KZXLH"
      },
      "execution_count": null,
      "outputs": []
    },
    {
      "cell_type": "markdown",
      "source": [
        "## **Naive Bayes Classifier Implementation**"
      ],
      "metadata": {
        "id": "max3yW0na6bH"
      }
    },
    {
      "cell_type": "code",
      "source": [
        "class NaiveBayes:\n",
        "    \n",
        "    def __init__(self):\n",
        "        self.priors = {}\n",
        "        self.posteriors = {}\n",
        "        \n",
        "    def fit(self, X, y):\n",
        "        # Compute priors\n",
        "        classes, counts = np.unique(y, return_counts=True)\n",
        "        total = len(y)\n",
        "        self.priors = dict(zip(classes, counts / total))\n",
        "        \n",
        "        # Compute posteriors\n",
        "        for col in X.columns:\n",
        "            self.posteriors[col] = {}\n",
        "            for val in X[col].unique():\n",
        "                self.posteriors[col][val] = {}\n",
        "                for c in classes:\n",
        "                    subset = X[y == c][col]\n",
        "                    if len(subset) == 0:\n",
        "                        self.posteriors[col][val][c] = 0\n",
        "                    else:\n",
        "                        self.posteriors[col][val][c] = len(subset[subset == val]) / counts[c]\n",
        "        \n",
        "    def predict(self, X):\n",
        "        predictions = []\n",
        "        for i, row in X.iterrows():\n",
        "            probs = {c: self.priors[c] for c in self.priors}\n",
        "            for col in X.columns:\n",
        "                val = row[col]\n",
        "                for c in self.priors:\n",
        "                    if val in self.posteriors[col]:\n",
        "                        probs[c] *= self.posteriors[col][val][c]\n",
        "                    else:\n",
        "                        probs[c] = 0\n",
        "            predictions.append(max(probs, key=probs.get))\n",
        "        return predictions"
      ],
      "metadata": {
        "id": "0NJwpS6AWXih"
      },
      "execution_count": null,
      "outputs": []
    },
    {
      "cell_type": "code",
      "source": [
        "# Train and test the model\n",
        "nb = NaiveBayes()\n",
        "nb.fit(X_train, y_train)\n",
        "predictions = nb.predict(X_test)\n"
      ],
      "metadata": {
        "id": "XZIN5_soWdlO"
      },
      "execution_count": null,
      "outputs": []
    },
    {
      "cell_type": "markdown",
      "source": [
        "![image.png](data:image/png;base64,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)"
      ],
      "metadata": {
        "id": "1__akJC7cBtU"
      }
    },
    {
      "cell_type": "code",
      "source": [
        "li = []\n",
        "for i in y_test:\n",
        "  li.append(i)"
      ],
      "metadata": {
        "id": "2bTQNQphBaxz"
      },
      "execution_count": null,
      "outputs": []
    },
    {
      "cell_type": "code",
      "source": [
        "count = 0\n",
        "for i in li:\n",
        "  if i == 0:\n",
        "    count += 1\n",
        "\n",
        "print(count,len(li)-count)"
      ],
      "metadata": {
        "colab": {
          "base_uri": "https://localhost:8080/"
        },
        "id": "OQKWU6OX-V-x",
        "outputId": "2061dc1b-6e8e-43e4-d05e-d9f76d084479"
      },
      "execution_count": null,
      "outputs": [
        {
          "output_type": "stream",
          "name": "stdout",
          "text": [
            "16445 5262\n"
          ]
        }
      ]
    },
    {
      "cell_type": "code",
      "source": [
        "count = 0\n",
        "for i in predictions:\n",
        "  if i == 0:\n",
        "    count += 1\n",
        "\n",
        "print(count,len(predictions)-count)"
      ],
      "metadata": {
        "colab": {
          "base_uri": "https://localhost:8080/"
        },
        "id": "HeSj863h-l12",
        "outputId": "9280564d-1704-4e3d-d7e4-a843b1895e11"
      },
      "execution_count": null,
      "outputs": [
        {
          "output_type": "stream",
          "name": "stdout",
          "text": [
            "19886 1821\n"
          ]
        }
      ]
    },
    {
      "cell_type": "code",
      "source": [
        "tp = 0\n",
        "tn = 0\n",
        "fp = 0\n",
        "fn = 0\n",
        "for j in range(len(predictions)):\n",
        "  if predictions[j] == 1:\n",
        "    if li[j] == 1:\n",
        "      tp+=1\n",
        "    else:\n",
        "      fp+=1\n",
        "  else:\n",
        "    if li[j]==0:\n",
        "      tn += 1\n",
        "    else:\n",
        "      fn += 1\n",
        "print(tp,tn,fp,fn)"
      ],
      "metadata": {
        "colab": {
          "base_uri": "https://localhost:8080/"
        },
        "id": "5XcTESQHAW7_",
        "outputId": "f43f1194-c1b3-4b5d-e359-e2bb0db3cff6"
      },
      "execution_count": null,
      "outputs": [
        {
          "output_type": "stream",
          "name": "stdout",
          "text": [
            "966 15590 855 4296\n"
          ]
        }
      ]
    },
    {
      "cell_type": "code",
      "source": [
        "# Evaluate the model\n",
        "\n",
        "accuracy = sum(predictions == y_test) / len(y_test)\n",
        "print('Accuracy:', accuracy)\n",
        "\n",
        "precision = tp / (tp + fp)\n",
        "recall = tp / (tp + fn)\n",
        "fscore = 2 * precision * recall / (precision + recall)\n",
        "\n",
        "print(\"Precision:\",precision)\n",
        "print(\"Recall:\",recall)\n",
        "print(\"F1 score:\",fscore)\n"
      ],
      "metadata": {
        "colab": {
          "base_uri": "https://localhost:8080/"
        },
        "id": "PUZ7rv6-BE7S",
        "outputId": "7b955ef4-be74-4c57-f56d-a8d2149a7eab"
      },
      "execution_count": null,
      "outputs": [
        {
          "output_type": "stream",
          "name": "stdout",
          "text": [
            "Accuracy: 0.762703275441102\n",
            "Precision: 0.5304777594728172\n",
            "Recall: 0.18358038768529075\n",
            "F1 score: 0.2727657772130453\n"
          ]
        }
      ]
    },
    {
      "cell_type": "markdown",
      "source": [
        "## **On applying Laplace Smoothing**"
      ],
      "metadata": {
        "id": "gAGzxwbKD38Q"
      }
    },
    {
      "cell_type": "code",
      "source": [
        "import numpy as np\n",
        "\n",
        "class SmoothNaiveBayes:\n",
        "    def __init__(self):\n",
        "        self.priors = {}\n",
        "        self.posteriors = {}\n",
        "        \n",
        "    def fit(self, X, y, alpha=1):\n",
        "        # Compute priors\n",
        "        classes, counts = np.unique(y, return_counts=True)\n",
        "        total = len(y)\n",
        "        self.priors = dict(zip(classes, counts / total))\n",
        "        \n",
        "        # Compute posteriors with Laplace smoothing\n",
        "        for col in X.columns:\n",
        "            self.posteriors[col] = {}\n",
        "            unique_vals = X[col].unique()\n",
        "            for val in unique_vals:\n",
        "                self.posteriors[col][val] = {}\n",
        "                for c in classes:\n",
        "                    subset = X[y == c][col]\n",
        "                    count_val = len(subset[subset == val])\n",
        "                    self.posteriors[col][val][c] = (count_val + alpha) / (counts[c] + alpha*len(unique_vals))\n",
        "        \n",
        "    def predict(self, X):\n",
        "        predictions = []\n",
        "        for i, row in X.iterrows():\n",
        "            probs = {c: self.priors[c] for c in self.priors}\n",
        "            for col in X.columns:\n",
        "                val = row[col]\n",
        "                for c in self.priors:\n",
        "                    if val in self.posteriors[col]:\n",
        "                        probs[c] *= self.posteriors[col][val][c]\n",
        "                    else:\n",
        "                        probs[c] = 0\n",
        "            predictions.append(max(probs, key=probs.get))\n",
        "        return predictions\n"
      ],
      "metadata": {
        "id": "xrTVcNziD25S"
      },
      "execution_count": null,
      "outputs": []
    },
    {
      "cell_type": "code",
      "source": [
        "snb = SmoothNaiveBayes()\n",
        "snb.fit(X_train, y_train)\n",
        "predictions = snb.predict(X_test)"
      ],
      "metadata": {
        "id": "0akVxJwiEBwX"
      },
      "execution_count": null,
      "outputs": []
    },
    {
      "cell_type": "code",
      "source": [
        "li = []\n",
        "for i in y_test:\n",
        "  li.append(i)"
      ],
      "metadata": {
        "id": "l2h2v0MKEL5K"
      },
      "execution_count": null,
      "outputs": []
    },
    {
      "cell_type": "code",
      "source": [
        "tp = 0\n",
        "tn = 0\n",
        "fp = 0\n",
        "fn = 0\n",
        "for j in range(len(predictions)):\n",
        "  if predictions[j] == 1:\n",
        "    if li[j] == 1:\n",
        "      tp+=1\n",
        "    else:\n",
        "      fp+=1\n",
        "  else:\n",
        "    if li[j]==0:\n",
        "      tn += 1\n",
        "    else:\n",
        "      fn += 1\n",
        "print(tp,tn,fp,fn)"
      ],
      "metadata": {
        "colab": {
          "base_uri": "https://localhost:8080/"
        },
        "id": "UZGiqgk6EPSc",
        "outputId": "eaecf64a-f763-41a1-858c-9c7ee2d55edc"
      },
      "execution_count": null,
      "outputs": [
        {
          "output_type": "stream",
          "name": "stdout",
          "text": [
            "1542 15604 841 3720\n"
          ]
        }
      ]
    },
    {
      "cell_type": "code",
      "source": [
        "# Evaluate the model\n",
        "\n",
        "accuracy = sum(predictions == y_test) / len(y_test)\n",
        "print('Accuracy:', accuracy)\n",
        "\n",
        "precision = tp / (tp + fp)\n",
        "recall = tp / (tp + fn)\n",
        "fscore = 2 * precision * recall / (precision + recall)\n",
        "\n",
        "print(\"Precision:\",precision)\n",
        "print(\"Recall:\",recall)\n",
        "print(\"F1 score:\",fscore)"
      ],
      "metadata": {
        "colab": {
          "base_uri": "https://localhost:8080/"
        },
        "id": "6m_TgdpBESNs",
        "outputId": "91422aca-f823-4f63-ad35-9af6d2a7072e"
      },
      "execution_count": null,
      "outputs": [
        {
          "output_type": "stream",
          "name": "stdout",
          "text": [
            "Accuracy: 0.7898834477357535\n",
            "Precision: 0.6470835081829627\n",
            "Recall: 0.29304446978335236\n",
            "F1 score: 0.4034009156311315\n"
          ]
        }
      ]
    },
    {
      "cell_type": "markdown",
      "source": [
        "## **KNN**"
      ],
      "metadata": {
        "id": "vFLE2LksGslM"
      }
    },
    {
      "cell_type": "code",
      "source": [
        "from sklearn.preprocessing import LabelEncoder, StandardScaler\n",
        "from sklearn.model_selection import train_test_split\n",
        "\n",
        "\n",
        "encoder = LabelEncoder()\n",
        "df['income_status'] = encoder.fit_transform(df['income_status']) # encode the income column as binary\n",
        "df = pd.get_dummies(df, columns=['workclass', 'education', 'marital-status', \n",
        "                                                 'occupation', 'relationship', 'race', 'sex', \n",
        "                                                 'native-country']) # one-hot encode categorical features\n",
        "\n",
        "# Split the dataset into training and testing sets\n",
        "X = df.drop('income_status', axis=1)\n",
        "y = df['income_status']\n",
        "X_train, X_test, y_train, y_test = train_test_split(X, y, test_size=0.3, random_state=42)\n",
        "\n",
        "# Scale the features using standardization\n",
        "scaler = StandardScaler()\n",
        "X_train = scaler.fit_transform(X_train)\n",
        "X_test = scaler.transform(X_test)\n",
        "\n",
        "\n",
        "from sklearn.neighbors import KNeighborsClassifier\n",
        "from sklearn.metrics import accuracy_score\n",
        "from sklearn.metrics import precision_score\n",
        "from sklearn.metrics import f1_score\n",
        "from sklearn.metrics import recall_score\n",
        "\n",
        "# Train the KNN model\n",
        "knn = KNeighborsClassifier(n_neighbors=5)\n",
        "knn.fit(X_train, y_train)\n",
        "\n",
        "# Test the KNN model\n",
        "y_pred = knn.predict(X_test)\n",
        "\n",
        "# Evaluate the KNN model\n",
        "accuracy = accuracy_score(y_test, y_pred)\n",
        "precision = precision_score(y_test, y_pred)\n",
        "f_score = f1_score(y_test, y_pred)\n",
        "recall = recall_score(y_test,y_pred)\n",
        "print(f\"Accuracy: {accuracy:.4f}\")\n",
        "print(f\"Precision: {precision:.4f}\")\n",
        "print(f\"f1-Score: {f_score:.4f}\")\n",
        "print(f\"Recall: {recall:.4f}\")"
      ],
      "metadata": {
        "colab": {
          "base_uri": "https://localhost:8080/"
        },
        "id": "sSui4DzZGkoJ",
        "outputId": "b41a4b98-328b-41d1-fcf2-be820d656323"
      },
      "execution_count": null,
      "outputs": [
        {
          "output_type": "stream",
          "name": "stdout",
          "text": [
            "Accuracy: 0.8244\n",
            "Precision: 0.6611\n",
            "f1-Score: 0.6116\n",
            "Recall: 0.5689\n"
          ]
        }
      ]
    },
    {
      "cell_type": "markdown",
      "source": [
        "# **Logistic Regression**"
      ],
      "metadata": {
        "id": "vmkG2ar5GzBr"
      }
    },
    {
      "cell_type": "code",
      "source": [
        "from sklearn.linear_model import LogisticRegression\n",
        "\n",
        "# Create a logistic regression model\n",
        "model = LogisticRegression()\n",
        "\n",
        "# Train the model on the training data\n",
        "model.fit(X_train, y_train)\n",
        "\n",
        "# Make predictions on the test data\n",
        "y_pred = model.predict(X_test)\n",
        "\n",
        "# Evaluate the KNN model\n",
        "accuracy = accuracy_score(y_test, y_pred)\n",
        "precision = precision_score(y_test, y_pred)\n",
        "f_score = f1_score(y_test, y_pred)\n",
        "recall = recall_score(y_test,y_pred)\n",
        "\n",
        "print(f\"Accuracy: {accuracy:.4f}\")\n",
        "print(f\"Precision: {precision:.4f}\")\n",
        "print(f\"f1-Score: {f_score:.4f}\")\n",
        "print(f\"Recall: {recall:.4f}\")"
      ],
      "metadata": {
        "id": "VqwuRnA-GzcN",
        "colab": {
          "base_uri": "https://localhost:8080/"
        },
        "outputId": "10be2b8b-9cb1-433b-da80-54e6c5e314e3"
      },
      "execution_count": null,
      "outputs": [
        {
          "output_type": "stream",
          "name": "stdout",
          "text": [
            "Accuracy: 0.8498\n",
            "Precision: 0.7321\n",
            "f1-Score: 0.6608\n",
            "Recall: 0.6022\n"
          ]
        }
      ]
    }
  ]
}